{
 "cells": [
  {
   "cell_type": "markdown",
   "id": "4a0fe909",
   "metadata": {},
   "source": [
    "# Problem Set 2 Shubham Chawla 200493036"
   ]
  },
  {
   "cell_type": "markdown",
   "id": "c1b32ed6",
   "metadata": {},
   "source": [
    "## Question 1 Python\n",
    "<p></p>\n",
    "<li>Consider the following Python module:</li>\n",
    "<p>a = 0</p>\n",
    "\n",
    "<p>def b():</p>\n",
    "<li>global a</li>\n",
    "<li>a = c(a)</li>\n",
    "\n",
    "<p>def c(a):</p>\n",
    "<li>return a + 2</li>\n",
    "\n",
    "<p>After importing the module into the interpreter, you execute:</p>\n",
    "\n",
    "<p>>>> b()</p>\n",
    "<li>>>> b()</li>\n",
    "<li>>>> b()</li>\n",
    "<li>>>> a</li>\n",
    "<li>?</li>\n",
    "\n",
    "<p>What value is displayed when the last expression (a) is evaluated? Explain your answer by indicating what happens in every executed statement.</p>\n",
    "\n"
   ]
  },
  {
   "cell_type": "code",
   "execution_count": 2,
   "id": "868757f7",
   "metadata": {},
   "outputs": [],
   "source": [
    "# Defined a module 'ques1Module' saved in the same directory as Problem Set 2\n",
    "# The code below is in the file ques1Module.py\n",
    "a = 0\n",
    "\n",
    "def b():\n",
    "    global a\n",
    "    a = c(a)\n",
    "    \n",
    "    \n",
    "def c(a):\n",
    "    return a + 2"
   ]
  },
  {
   "cell_type": "code",
   "execution_count": 1,
   "id": "423399e3",
   "metadata": {},
   "outputs": [
    {
     "data": {
      "text/plain": [
       "6"
      ]
     },
     "execution_count": 1,
     "metadata": {},
     "output_type": "execute_result"
    }
   ],
   "source": [
    "import ques1Module as q1 # importing our module\n",
    "\n",
    "#Each time function b is called, it calls function c which adds integer 2 to variable a\n",
    "q1.b() # global variable a = 0 becomes a = 2 \n",
    "q1.b() # global variable a = 2 becomes a = 4\n",
    "q1.b() # global variable a = 4 becomes a = 6\n",
    "q1.a # prints 6"
   ]
  },
  {
   "cell_type": "markdown",
   "id": "15b1004b",
   "metadata": {},
   "source": [
    "'a' is defined as a global variable in the code, 'Function b' passes 'a' as an input parameter to 'Function c' and assigns the returned value to 'a'. 'Function c' add integer 2 to variable 'a'."
   ]
  },
  {
   "cell_type": "markdown",
   "id": "059b24a2",
   "metadata": {},
   "source": [
    "## Question 2 Python\n",
    "<p></p>\n",
    "<li>Function fileLength(), given to you, takes the name of a file as input and returns the length of the file:</li>\n",
    "\n",
    "<p>>>> fileLength('midterm.py')</p>\n",
    "<li>284</li>\n",
    "<li>>>> fileLength('idterm.py')</li>\n",
    "<li>Traceback (most recent call last):</li>\n",
    "<li>    File \"pyshell#34>\", line 1, in module></li>\n",
    "<li>        fileLength('idterm.py')</li>\n",
    "<li>    File \"/Users/me/midterm.py\", line 3, in fileLength infile = open(filename)</li>\n",
    "<li>FileNotFoundError: [Errno 2] No such file or directory: 'idterm.py'</li>\n",
    "\n",
    "<p>As shown above, if the file cannot be found by the interpreter or if it cannot be read as a text file, an exception will be raised. Modify function fileLength() so that a friendly message is printed instead:</p>\n",
    "\n",
    "<p>>>> fileLength('midterm.py')</p>\n",
    "<li>358</li>\n",
    "<li>>>> fileLength('idterm.py')</li>\n",
    "<li>File idterm.py not found.</li>\n"
   ]
  },
  {
   "cell_type": "code",
   "execution_count": 2,
   "id": "9b055c5f",
   "metadata": {},
   "outputs": [],
   "source": [
    "# Function to find length of the file\n",
    "def fileLength(fileName):\n",
    "    \n",
    "    # using try and except block \n",
    "    try:\n",
    "        file = open(fileName)\n",
    "        contents = file.read()\n",
    "        file.close()\n",
    "        print(len(contents))\n",
    "    except:\n",
    "        print(\"File {} not found.\".format(fileName))"
   ]
  },
  {
   "cell_type": "code",
   "execution_count": 3,
   "id": "4d61a82a",
   "metadata": {},
   "outputs": [
    {
     "name": "stdout",
     "output_type": "stream",
     "text": [
      "123\n"
     ]
    }
   ],
   "source": [
    "fileLength('Filelength.txt')"
   ]
  },
  {
   "cell_type": "code",
   "execution_count": 4,
   "id": "e15bfe22",
   "metadata": {},
   "outputs": [
    {
     "name": "stdout",
     "output_type": "stream",
     "text": [
      "File length.txt not found.\n"
     ]
    }
   ],
   "source": [
    "fileLength('length.txt')"
   ]
  },
  {
   "cell_type": "markdown",
   "id": "3f78549c",
   "metadata": {},
   "source": [
    "## Question 3 Python\n",
    "<p></p>\n",
    "<li>Write a class named Marsupial that can be used as shown below:</li>\n",
    "\n",
    "\n",
    "<li>>>> m = Marsupial())</li>\n",
    "<li>>>> m.put_in_pouch('doll')</li>\n",
    "<li>>>> m.put_in_pouch('firetruck')</li>\n",
    "<li>>>> m.put_in_pouch('kitten')</li>\n",
    "<li>>>> m.pouch_contents()</li>\n",
    "<li>['doll', 'firetruck', 'kitten']</li>\n",
    "\n",
    "<p>Now write a class named Kangaroo as a subclass of Marsupial that inherits all the attributes of Marsupial and also:</p>\n",
    "<li>a. extends the Marsupial __init__ constructor to take, as input, the coordinates x and y of the Kangaroo object,</li>\n",
    "<li>b. supports method jump that takes number values dx and dy as input and moves the kangaroo by dx units along the x-axis and by dy units along the y-axis, and</li>\n",
    "<li>c. overloads the __str__ operator so it behaves as shown below.</li>\n",
    "\n",
    "<li>>>> k = Kangaroo(0,0)</li>\n",
    "<li>>>> print(k)</li>\n",
    "<li>I am a Kangaroo located at coordinates (0,0)</li>\n",
    "<li>>>> k.put_in_pouch('doll')</li>\n",
    "<li>>>> k.put_in_pouch('firetruck')</li>\n",
    "<li>>>> k.put_in_pouch('kitten')</li>\n",
    "<li>>>> k.pouch_contents()</li>\n",
    "<li>['doll', 'firetruck', 'kitten']</li>\n",
    "<li>>>> k.jump(1,0)</li>\n",
    "<li>>>> k.jump(1,0)</li>\n",
    "<li>>>> k.jump(1,0)</li>\n",
    "<li>>>> print(k)</li>\n",
    "<li>I am a Kangaroo located at coordinates (3,0)</li>"
   ]
  },
  {
   "cell_type": "code",
   "execution_count": 5,
   "id": "91970ea5",
   "metadata": {},
   "outputs": [
    {
     "data": {
      "text/plain": [
       "['doll', 'firetruck', 'kitten']"
      ]
     },
     "execution_count": 5,
     "metadata": {},
     "output_type": "execute_result"
    }
   ],
   "source": [
    "class Marsupial:\n",
    "    'appends items to a list'\n",
    "    \n",
    "    def __init__ (self):\n",
    "        'initialize a list marList'\n",
    "        self.marList = []\n",
    "    \n",
    "    def put_in_pouch(self, item):\n",
    "        'appends items to the list'\n",
    "        self.marList.append(item)\n",
    "    \n",
    "    def pouch_contents(self):\n",
    "        'returns the list'\n",
    "        return self.marList\n",
    "    \n",
    "    \n",
    "m = Marsupial()\n",
    "m.put_in_pouch('doll')\n",
    "m.put_in_pouch('firetruck')\n",
    "m.put_in_pouch('kitten')\n",
    "m.pouch_contents()"
   ]
  },
  {
   "cell_type": "code",
   "execution_count": 6,
   "id": "0ecefdc8",
   "metadata": {},
   "outputs": [
    {
     "name": "stdout",
     "output_type": "stream",
     "text": [
      "I am a Kangaroo located at coordinates (0,0)\n"
     ]
    },
    {
     "data": {
      "text/plain": [
       "['doll', 'firetruck', 'kitten']"
      ]
     },
     "execution_count": 6,
     "metadata": {},
     "output_type": "execute_result"
    }
   ],
   "source": [
    "class Kangaroo(Marsupial):\n",
    "    'subclass of Marsupial'\n",
    "    \n",
    "    def __init__(self, xcoord, ycoord):\n",
    "        'initialize xcoord and ycoord'\n",
    "        Marsupial.__init__(self) #extending __init__ constructor of class Marsupial\n",
    "        self.xcoord = xcoord\n",
    "        self.ycoord = ycoord\n",
    "    \n",
    "    def jump(self, dx, dy):\n",
    "        'changes the xcoord and ycoord values'\n",
    "        self.xcoord += dx\n",
    "        self.ycoord += dy\n",
    "    \n",
    "    def __str__(self):\n",
    "        return \"I am a Kangaroo located at coordinates ({},{})\".format(self.xcoord, self.ycoord)\n",
    "    \n",
    "k = Kangaroo(0,0)\n",
    "print(k)\n",
    "k.put_in_pouch('doll')\n",
    "k.put_in_pouch('firetruck')\n",
    "k.put_in_pouch('kitten')\n",
    "k.pouch_contents()"
   ]
  },
  {
   "cell_type": "code",
   "execution_count": 7,
   "id": "ba933e90",
   "metadata": {},
   "outputs": [
    {
     "name": "stdout",
     "output_type": "stream",
     "text": [
      "I am a Kangaroo located at coordinates (3,0)\n"
     ]
    }
   ],
   "source": [
    "k.jump(1,0)\n",
    "k.jump(1,0)\n",
    "k.jump(1,0)\n",
    "print(k)"
   ]
  },
  {
   "cell_type": "markdown",
   "id": "834ff88a",
   "metadata": {},
   "source": [
    "## Question 4 Python\n",
    "<p></p>\n",
    "<li>Write function collatz() that takes a positive integer x as input and prints the Collatz sequence starting at x. A Collatz sequence is obtained by repeatedly applying this rule to the previous number x in the sequence:</li>\n",
    "\n",
    "<p>x = { 𝑥/2    𝑖𝑓 𝑥 𝑖𝑠 𝑒𝑣𝑒𝑛</p>\n",
    "<li>     3𝑥 + 1 𝑖𝑓 𝑥 𝑖𝑠 𝑜𝑑𝑑</li>\n",
    "\n",
    "<p>Your function should stop when the sequence gets to number 1. Your implementation must be recursive, without any loops.</p>\n",
    "\n",
    "<p>>>> collatz(1)</p>\n",
    "<li>1</li>\n",
    "<li>>>> collatz(10)</li>\n",
    "<li>10</li>\n",
    "<li>5</li>\n",
    "<li>16</li>\n",
    "<li>8</li>\n",
    "<li>4</li>\n",
    "<li>2</li>\n",
    "<li>1</li>"
   ]
  },
  {
   "cell_type": "code",
   "execution_count": 8,
   "id": "b24ca381",
   "metadata": {},
   "outputs": [],
   "source": [
    "def collatz(x):\n",
    "    'prints Collatz Sequence starting at x using Recursion'\n",
    "    print(x) \n",
    "    if x < 0:\n",
    "        print(\"Please enter a positive integer.\") # print a message if a negative number is passed\n",
    "        \n",
    "    elif x == 1: #case when x is 1\n",
    "        pass # do nothing as we have the print function for this case in the third line of code\n",
    "    \n",
    "    elif x % 2 == 0: # check for even integers\n",
    "        collatz(x//2) # using recusion\n",
    "        \n",
    "    else:# case when input integer is odd\n",
    "        collatz((3*x)+1) # using recusion"
   ]
  },
  {
   "cell_type": "code",
   "execution_count": 9,
   "id": "eaa0e4a2",
   "metadata": {},
   "outputs": [
    {
     "name": "stdout",
     "output_type": "stream",
     "text": [
      "1\n"
     ]
    }
   ],
   "source": [
    "collatz(1)"
   ]
  },
  {
   "cell_type": "code",
   "execution_count": 10,
   "id": "a45ecc75",
   "metadata": {},
   "outputs": [
    {
     "name": "stdout",
     "output_type": "stream",
     "text": [
      "10\n",
      "5\n",
      "16\n",
      "8\n",
      "4\n",
      "2\n",
      "1\n"
     ]
    }
   ],
   "source": [
    "collatz(10)"
   ]
  },
  {
   "cell_type": "markdown",
   "id": "cd36c5e1",
   "metadata": {},
   "source": [
    "## Question 5 Python\n",
    "<p></p>\n",
    "<li>Write a recursive method binary() that takes a non-negative integer n and prints the binary representation of integer n.</li>\n",
    "\n",
    "<p>>>> binary(0)</p>\n",
    "<li>0</li>\n",
    "<li>>>> binary(1)</li>\n",
    "<li>1</li>\n",
    "<li>>>> binary(3)</li>\n",
    "<li>11</li>\n",
    "<li>>>> binary(9)</li>\n",
    "<li>1001</li>"
   ]
  },
  {
   "cell_type": "code",
   "execution_count": 11,
   "id": "bfb40b25",
   "metadata": {},
   "outputs": [],
   "source": [
    "def binary(x):\n",
    "    'Function to print binary representation of integer n using recursion'\n",
    "    try: \n",
    "        if x < 0:  # check for negative integer and raise value error if true\n",
    "            raise ValueError\n",
    "\n",
    "        elif x == 0 or x == 1:  # case when x is 0 or 1\n",
    "            print(x, end = '')\n",
    "\n",
    "        else:\n",
    "            binary(x//2) # passing quotients after dividing by 2 as a value to the binary function recursively\n",
    "            print(x%2, end = '') # printing the remainders\n",
    "            \n",
    "    except ValueError:\n",
    "        print(\"Please enter a non-negative integer\")\n",
    "        "
   ]
  },
  {
   "cell_type": "code",
   "execution_count": 12,
   "id": "762bd7fc",
   "metadata": {},
   "outputs": [
    {
     "name": "stdout",
     "output_type": "stream",
     "text": [
      "0"
     ]
    }
   ],
   "source": [
    "binary(0)"
   ]
  },
  {
   "cell_type": "code",
   "execution_count": 13,
   "id": "9291d9a0",
   "metadata": {},
   "outputs": [
    {
     "name": "stdout",
     "output_type": "stream",
     "text": [
      "1"
     ]
    }
   ],
   "source": [
    "binary(1)"
   ]
  },
  {
   "cell_type": "code",
   "execution_count": 14,
   "id": "36b6c703",
   "metadata": {},
   "outputs": [
    {
     "name": "stdout",
     "output_type": "stream",
     "text": [
      "11"
     ]
    }
   ],
   "source": [
    "binary(3)"
   ]
  },
  {
   "cell_type": "code",
   "execution_count": 15,
   "id": "a03a3653",
   "metadata": {},
   "outputs": [
    {
     "name": "stdout",
     "output_type": "stream",
     "text": [
      "1001"
     ]
    }
   ],
   "source": [
    "binary(9)"
   ]
  },
  {
   "cell_type": "markdown",
   "id": "f49707d6",
   "metadata": {},
   "source": [
    "## Question 6 Python\n",
    "<p></p>\n",
    "<li>Implement a class named HeadingParser that can be used to parse an HTML document, and retrieve and print all the headings in the document. You should implement your class as a subclass of HTMLParser, defined in Standard Library module html.parser.</li>\n",
    "\n",
    "<p>When fed a string containing HTML code, your class should print the headings, one per line and in the order in which they appear in the document.</p>\n",
    "\n",
    "<p>Each heading should be indented as follows:</p>\n",
    "<li>an h1 heading should have indentation 0, and h2 heading should have indentation 1, etc.</li>\n",
    "<li>Test your implementation using w3c.html.</li>\n",
    "\n",
    "<p>>>> infile = open('w3c.html')</p>\n",
    "<li>>>> content = infile.read()</li>\n",
    "<li>>>> infile.close()</li>\n",
    "<li>>>> hp = HeadingParser()</li>\n",
    "<li>>>> binary(3)</li>\n",
    "<li>>>> hp.feed(content)</li>\n",
    "<li>W3C Mission</li>\n",
    "<li>_Principles</li>"
   ]
  },
  {
   "cell_type": "code",
   "execution_count": 16,
   "id": "4d9506a3",
   "metadata": {},
   "outputs": [],
   "source": [
    "from html.parser import HTMLParser\n",
    "class HeadingParser(HTMLParser): \n",
    "    'class HeadingParser implemented as a subclass of HTMLParser'\n",
    "    \n",
    "    def __init__(self):\n",
    "        'initializes the parser and a string variable headerTag'\n",
    "        HTMLParser.__init__(self)\n",
    "        self.headerTag = ''\n",
    "    \n",
    "    def handle_starttag(self, tag, attrs):\n",
    "        'collect header tags'\n",
    "        if tag in ['h1','h2','h3','h4','h5','h6']:\n",
    "            self.headerTag = tag\n",
    "            #print(self.headerTag) \n",
    "    \n",
    "    def handle_data(self, attrs):\n",
    "        'collects text/content inside the tag and print them according to the specified indentation'\n",
    "        \n",
    "        if self.headerTag in ['h1','h2','h3','h4','h5','h6']:\n",
    "            self.headerTag = list(self.headerTag) #converting into list and splitting 'h' and the corresponding heading value\n",
    "            #print(self.headerTag) # 'h1' becomes ['h','1']\n",
    "            \n",
    "            'adding indentation to the headings using the header values at index 1 from the list'\n",
    "            indent = (int(self.headerTag[1])-1) * ' ' \n",
    "            print(indent + attrs)"
   ]
  },
  {
   "cell_type": "code",
   "execution_count": 17,
   "id": "80e1e1d1",
   "metadata": {},
   "outputs": [
    {
     "name": "stdout",
     "output_type": "stream",
     "text": [
      "W3C Mission\n",
      " Principles\n"
     ]
    }
   ],
   "source": [
    "infile = open('w3c.html') # testing on a file with 2 headings tags h1 and h2\n",
    "content = infile.read()\n",
    "infile.close()\n",
    "hp = HeadingParser()\n",
    "hp.feed(content)"
   ]
  },
  {
   "cell_type": "code",
   "execution_count": 18,
   "id": "0c143cf6",
   "metadata": {},
   "outputs": [
    {
     "name": "stdout",
     "output_type": "stream",
     "text": [
      "W3C Mission\n",
      " Principles\n",
      "  Goals\n"
     ]
    }
   ],
   "source": [
    "infile = open('w3c_1.html') # testing on a file with 3 headings tags h1 and h2 and h3\n",
    "content = infile.read()\n",
    "infile.close()\n",
    "hp = HeadingParser()\n",
    "hp.feed(content)"
   ]
  },
  {
   "cell_type": "markdown",
   "id": "a6b57c8e",
   "metadata": {},
   "source": [
    "## Question 7 Python\n",
    "<li>Implement recursive function webdir() that takes as input: a URL (as a string) and non-negative integers depth and indent.</li>\n",
    "\n",
    "<p>Your function should visit every web page reachable from the starting URL web page in depth clicks or less, and print each web page's URL.</p>\n",
    "\n",
    "<p>As shown below, indentation, specified by indent, should be used to indicate the depth of a URL.</p>\n",
    "\n",
    "<p>>>>webdir('http://reed.cs.depaul.edu/lperkovic/test1.html', 2, 0)</p>\n",
    "<li>http://reed.cs.depaul.edu/lperkovic/test1.html</li>\n",
    "<li>http://reed.cs.depaul.edu/lperkovic/test2.html</li>\n",
    "<li>http://reed.cs.depaul.edu/lperkovic/test4.html</li>\n",
    "<li>http://reed.cs.depaul.edu/lperkovic/test3.html</li>\n",
    "<li>http://reed.cs.depaul.edu/lperkovic/test4.html:</li>"
   ]
  },
  {
   "cell_type": "code",
   "execution_count": 25,
   "id": "3780ba12",
   "metadata": {},
   "outputs": [],
   "source": [
    "from html.parser import HTMLParser\n",
    "from urllib.request import urlopen\n",
    "from urllib.parse import urljoin\n",
    "\n",
    "class collectURL(HTMLParser):\n",
    "    'collects hyperlinks into a list'\n",
    "    \n",
    "    def __init__(self, url):\n",
    "        'initializes parser, url and a list'\n",
    "        HTMLParser.__init__(self)\n",
    "        self.url = url\n",
    "        self.links = [] # list for links\n",
    "    \n",
    "    def handle_starttag(self, tag , attrs):\n",
    "        'collects URLs in their absolute format'\n",
    "        if tag == 'a':\n",
    "            for attr in attrs:\n",
    "                if attr[0] == 'href':\n",
    "                    absURL = urljoin(self.url, attr[1])\n",
    "                    if absURL[:4] == 'http':\n",
    "                        self.links.append(absURL)\n",
    "                        \n",
    "    def getLinks(self):\n",
    "        return self.links\n",
    "\n",
    "def webdir(url, dep, indent):\n",
    "    'Recursive function to print each visited webpage URL reachable from the URL' \n",
    "    'Indentation depending on depth/clicks required to reach that page'\n",
    "    content = urlopen(url).read().decode()\n",
    "    collector = collectURL(url)\n",
    "    collector.feed(content)\n",
    "    urls = collector.getLinks()\n",
    "    \n",
    "    if indent == 0:\n",
    "        print(url)\n",
    "    else:\n",
    "        print(indent*' ',url)\n",
    "\n",
    "    for url in urls:\n",
    "        if dep > 0:\n",
    "            #print(dep)\n",
    "            webdir(url, dep - 1, indent+2) # using recursion \n"
   ]
  },
  {
   "cell_type": "code",
   "execution_count": 26,
   "id": "1f8634e4",
   "metadata": {},
   "outputs": [
    {
     "name": "stdout",
     "output_type": "stream",
     "text": [
      "http://reed.cs.depaul.edu/lperkovic/test1.html\n",
      "   http://reed.cs.depaul.edu/lperkovic/test2.html\n",
      "     http://reed.cs.depaul.edu/lperkovic/test4.html\n",
      "   http://reed.cs.depaul.edu/lperkovic/test3.html\n",
      "     http://reed.cs.depaul.edu/lperkovic/test4.html\n"
     ]
    }
   ],
   "source": [
    "webdir('http://reed.cs.depaul.edu/lperkovic/test1.html', 2, 0)"
   ]
  },
  {
   "cell_type": "markdown",
   "id": "967c9e23",
   "metadata": {},
   "source": [
    "## Question 8 Python\n",
    "<li>Write SQL queries on the below database table that return:</li>\n",
    "\n",
    "<li>a) All the temperature data.</li>\n",
    "<li>b) All the cities, but without repetition.</li>\n",
    "<li>c) All the records for India.</li>\n",
    "<li>d) All the Fall records.</li>\n",
    "<li>e) The city, country, and season for which the average rainfall is between 200 and 400 millimeters.</li>\n",
    "<li>f) The city and country for which the average Fall temperature is above 20 degrees, in increasing temperature order.</li>\n",
    "<li>g) The total annual rainfall for Cairo.</li>\n",
    "<li>h) The total rainfall for each season.</li>"
   ]
  },
  {
   "cell_type": "code",
   "execution_count": 37,
   "id": "c352e068",
   "metadata": {
    "scrolled": true
   },
   "outputs": [
    {
     "name": "stdout",
     "output_type": "stream",
     "text": [
      " * sqlite://\n",
      "Done.\n",
      "12 rows affected.\n"
     ]
    },
    {
     "data": {
      "text/plain": [
       "[]"
      ]
     },
     "execution_count": 37,
     "metadata": {},
     "output_type": "execute_result"
    }
   ],
   "source": [
    "#!pip install ipython-sql\n",
    "#%load_ext sql\n",
    "#%sql sqlite://\n",
    "%%sql\n",
    "CREATE TABLE various_cities\n",
    "(\n",
    "    City        varchar(25),\n",
    "    Country     varchar(25),\n",
    "    Season      varchar(10),\n",
    "    Temperature float,\n",
    "    Rainfall    float\n",
    ");\n",
    "\n",
    "INSERT INTO various_cities\n",
    "VALUES ('Mumbai', 'India', 'Winter', 24.8, 5.9),\n",
    "       ('Mumbai', 'India', 'Spring', 28.4, 16.2),\n",
    "       ('Mumbai', 'India', 'Summer', 27.9, 1549.4),\n",
    "       ('Mumbai', 'India', 'Fall', 27.6, 346.0),\n",
    "       ('London', 'United Kingdom', 'Winter', 4.2, 207.7),\n",
    "       ('London', 'United Kingdom', 'Spring', 8.3, 169.6),\n",
    "       ('London', 'United Kingdom', 'Summer', 15.7, 157.0),\n",
    "       ('London', 'United Kingdom', 'Fall', 10.4, 218.5),\n",
    "       ('Cairo', 'Egypt', 'Winter', 13.6, 16.5),\n",
    "       ('Cairo', 'Egypt', 'Spring', 20.7, 6.5),\n",
    "       ('Cairo', 'Egypt', 'Summer', 27.7, 0.1),\n",
    "       ('Cairo', 'Egypt', 'Fall', 22.2, 4.5);"
   ]
  },
  {
   "cell_type": "markdown",
   "id": "b8406f1a",
   "metadata": {},
   "source": [
    "### a) All the temperature data."
   ]
  },
  {
   "cell_type": "code",
   "execution_count": 38,
   "id": "2332a8ad",
   "metadata": {},
   "outputs": [
    {
     "name": "stdout",
     "output_type": "stream",
     "text": [
      " * sqlite://\n",
      "Done.\n"
     ]
    },
    {
     "data": {
      "text/html": [
       "<table>\n",
       "    <tr>\n",
       "        <th>Temperature</th>\n",
       "    </tr>\n",
       "    <tr>\n",
       "        <td>24.8</td>\n",
       "    </tr>\n",
       "    <tr>\n",
       "        <td>28.4</td>\n",
       "    </tr>\n",
       "    <tr>\n",
       "        <td>27.9</td>\n",
       "    </tr>\n",
       "    <tr>\n",
       "        <td>27.6</td>\n",
       "    </tr>\n",
       "    <tr>\n",
       "        <td>4.2</td>\n",
       "    </tr>\n",
       "    <tr>\n",
       "        <td>8.3</td>\n",
       "    </tr>\n",
       "    <tr>\n",
       "        <td>15.7</td>\n",
       "    </tr>\n",
       "    <tr>\n",
       "        <td>10.4</td>\n",
       "    </tr>\n",
       "    <tr>\n",
       "        <td>13.6</td>\n",
       "    </tr>\n",
       "    <tr>\n",
       "        <td>20.7</td>\n",
       "    </tr>\n",
       "    <tr>\n",
       "        <td>27.7</td>\n",
       "    </tr>\n",
       "    <tr>\n",
       "        <td>22.2</td>\n",
       "    </tr>\n",
       "</table>"
      ],
      "text/plain": [
       "[(24.8,),\n",
       " (28.4,),\n",
       " (27.9,),\n",
       " (27.6,),\n",
       " (4.2,),\n",
       " (8.3,),\n",
       " (15.7,),\n",
       " (10.4,),\n",
       " (13.6,),\n",
       " (20.7,),\n",
       " (27.7,),\n",
       " (22.2,)]"
      ]
     },
     "execution_count": 38,
     "metadata": {},
     "output_type": "execute_result"
    }
   ],
   "source": [
    "%%sql\n",
    "SELECT Temperature FROM various_cities"
   ]
  },
  {
   "cell_type": "markdown",
   "id": "67c75232",
   "metadata": {},
   "source": [
    "### b) All the cities, but without repetition."
   ]
  },
  {
   "cell_type": "code",
   "execution_count": 39,
   "id": "6316733f",
   "metadata": {},
   "outputs": [
    {
     "name": "stdout",
     "output_type": "stream",
     "text": [
      " * sqlite://\n",
      "Done.\n"
     ]
    },
    {
     "data": {
      "text/html": [
       "<table>\n",
       "    <tr>\n",
       "        <th>City</th>\n",
       "    </tr>\n",
       "    <tr>\n",
       "        <td>Mumbai</td>\n",
       "    </tr>\n",
       "    <tr>\n",
       "        <td>London</td>\n",
       "    </tr>\n",
       "    <tr>\n",
       "        <td>Cairo</td>\n",
       "    </tr>\n",
       "</table>"
      ],
      "text/plain": [
       "[('Mumbai',), ('London',), ('Cairo',)]"
      ]
     },
     "execution_count": 39,
     "metadata": {},
     "output_type": "execute_result"
    }
   ],
   "source": [
    "%%sql\n",
    "SELECT DISTINCT City FROM various_cities"
   ]
  },
  {
   "cell_type": "markdown",
   "id": "70fc3f62",
   "metadata": {},
   "source": [
    "### c) All the records for India."
   ]
  },
  {
   "cell_type": "code",
   "execution_count": 40,
   "id": "fe9c8793",
   "metadata": {},
   "outputs": [
    {
     "name": "stdout",
     "output_type": "stream",
     "text": [
      " * sqlite://\n",
      "Done.\n"
     ]
    },
    {
     "data": {
      "text/html": [
       "<table>\n",
       "    <tr>\n",
       "        <th>City</th>\n",
       "        <th>Country</th>\n",
       "        <th>Season</th>\n",
       "        <th>Temperature</th>\n",
       "        <th>Rainfall</th>\n",
       "    </tr>\n",
       "    <tr>\n",
       "        <td>Mumbai</td>\n",
       "        <td>India</td>\n",
       "        <td>Winter</td>\n",
       "        <td>24.8</td>\n",
       "        <td>5.9</td>\n",
       "    </tr>\n",
       "    <tr>\n",
       "        <td>Mumbai</td>\n",
       "        <td>India</td>\n",
       "        <td>Spring</td>\n",
       "        <td>28.4</td>\n",
       "        <td>16.2</td>\n",
       "    </tr>\n",
       "    <tr>\n",
       "        <td>Mumbai</td>\n",
       "        <td>India</td>\n",
       "        <td>Summer</td>\n",
       "        <td>27.9</td>\n",
       "        <td>1549.4</td>\n",
       "    </tr>\n",
       "    <tr>\n",
       "        <td>Mumbai</td>\n",
       "        <td>India</td>\n",
       "        <td>Fall</td>\n",
       "        <td>27.6</td>\n",
       "        <td>346.0</td>\n",
       "    </tr>\n",
       "</table>"
      ],
      "text/plain": [
       "[('Mumbai', 'India', 'Winter', 24.8, 5.9),\n",
       " ('Mumbai', 'India', 'Spring', 28.4, 16.2),\n",
       " ('Mumbai', 'India', 'Summer', 27.9, 1549.4),\n",
       " ('Mumbai', 'India', 'Fall', 27.6, 346.0)]"
      ]
     },
     "execution_count": 40,
     "metadata": {},
     "output_type": "execute_result"
    }
   ],
   "source": [
    "%%sql\n",
    "SELECT * FROM various_cities\n",
    "WHERE Country = 'India'"
   ]
  },
  {
   "cell_type": "markdown",
   "id": "69383634",
   "metadata": {},
   "source": [
    "### d) All the Fall records."
   ]
  },
  {
   "cell_type": "code",
   "execution_count": 41,
   "id": "22724780",
   "metadata": {},
   "outputs": [
    {
     "name": "stdout",
     "output_type": "stream",
     "text": [
      " * sqlite://\n",
      "Done.\n"
     ]
    },
    {
     "data": {
      "text/html": [
       "<table>\n",
       "    <tr>\n",
       "        <th>City</th>\n",
       "        <th>Country</th>\n",
       "        <th>Season</th>\n",
       "        <th>Temperature</th>\n",
       "        <th>Rainfall</th>\n",
       "    </tr>\n",
       "    <tr>\n",
       "        <td>Mumbai</td>\n",
       "        <td>India</td>\n",
       "        <td>Fall</td>\n",
       "        <td>27.6</td>\n",
       "        <td>346.0</td>\n",
       "    </tr>\n",
       "    <tr>\n",
       "        <td>London</td>\n",
       "        <td>United Kingdom</td>\n",
       "        <td>Fall</td>\n",
       "        <td>10.4</td>\n",
       "        <td>218.5</td>\n",
       "    </tr>\n",
       "    <tr>\n",
       "        <td>Cairo</td>\n",
       "        <td>Egypt</td>\n",
       "        <td>Fall</td>\n",
       "        <td>22.2</td>\n",
       "        <td>4.5</td>\n",
       "    </tr>\n",
       "</table>"
      ],
      "text/plain": [
       "[('Mumbai', 'India', 'Fall', 27.6, 346.0),\n",
       " ('London', 'United Kingdom', 'Fall', 10.4, 218.5),\n",
       " ('Cairo', 'Egypt', 'Fall', 22.2, 4.5)]"
      ]
     },
     "execution_count": 41,
     "metadata": {},
     "output_type": "execute_result"
    }
   ],
   "source": [
    "%%sql\n",
    "SELECT * FROM various_cities\n",
    "WHERE Season = 'Fall'"
   ]
  },
  {
   "cell_type": "markdown",
   "id": "a9037abb",
   "metadata": {},
   "source": [
    "### e) The city, country, and season for which the average rainfall is between 200 and 400 millimeters."
   ]
  },
  {
   "cell_type": "code",
   "execution_count": 42,
   "id": "7f0f4da6",
   "metadata": {},
   "outputs": [
    {
     "name": "stdout",
     "output_type": "stream",
     "text": [
      " * sqlite://\n",
      "Done.\n"
     ]
    },
    {
     "data": {
      "text/html": [
       "<table>\n",
       "    <tr>\n",
       "        <th>City</th>\n",
       "        <th>Country</th>\n",
       "        <th>Season</th>\n",
       "    </tr>\n",
       "    <tr>\n",
       "        <td>Mumbai</td>\n",
       "        <td>India</td>\n",
       "        <td>Fall</td>\n",
       "    </tr>\n",
       "    <tr>\n",
       "        <td>London</td>\n",
       "        <td>United Kingdom</td>\n",
       "        <td>Winter</td>\n",
       "    </tr>\n",
       "    <tr>\n",
       "        <td>London</td>\n",
       "        <td>United Kingdom</td>\n",
       "        <td>Fall</td>\n",
       "    </tr>\n",
       "</table>"
      ],
      "text/plain": [
       "[('Mumbai', 'India', 'Fall'),\n",
       " ('London', 'United Kingdom', 'Winter'),\n",
       " ('London', 'United Kingdom', 'Fall')]"
      ]
     },
     "execution_count": 42,
     "metadata": {},
     "output_type": "execute_result"
    }
   ],
   "source": [
    "%%sql\n",
    "SELECT City, Country, Season FROM various_cities\n",
    "WHERE Rainfall Between 200 AND 400"
   ]
  },
  {
   "cell_type": "markdown",
   "id": "aec26351",
   "metadata": {},
   "source": [
    "### f) The city and country for which the average Fall temperature is above 20 degrees, in increasing temperature order."
   ]
  },
  {
   "cell_type": "code",
   "execution_count": 43,
   "id": "14ecda48",
   "metadata": {},
   "outputs": [
    {
     "name": "stdout",
     "output_type": "stream",
     "text": [
      " * sqlite://\n",
      "Done.\n"
     ]
    },
    {
     "data": {
      "text/html": [
       "<table>\n",
       "    <tr>\n",
       "        <th>City</th>\n",
       "        <th>Country</th>\n",
       "        <th>Temperature</th>\n",
       "    </tr>\n",
       "    <tr>\n",
       "        <td>Cairo</td>\n",
       "        <td>Egypt</td>\n",
       "        <td>22.2</td>\n",
       "    </tr>\n",
       "    <tr>\n",
       "        <td>Mumbai</td>\n",
       "        <td>India</td>\n",
       "        <td>27.6</td>\n",
       "    </tr>\n",
       "</table>"
      ],
      "text/plain": [
       "[('Cairo', 'Egypt', 22.2), ('Mumbai', 'India', 27.6)]"
      ]
     },
     "execution_count": 43,
     "metadata": {},
     "output_type": "execute_result"
    }
   ],
   "source": [
    "%%sql\n",
    "SELECT City, Country, Temperature FROM various_cities\n",
    "WHERE Season = 'Fall' AND Temperature > 20 \n",
    "ORDER BY Temperature ASC"
   ]
  },
  {
   "cell_type": "markdown",
   "id": "da43dde0",
   "metadata": {},
   "source": [
    "### g) The total annual rainfall for Cairo."
   ]
  },
  {
   "cell_type": "code",
   "execution_count": 44,
   "id": "3923bdc3",
   "metadata": {},
   "outputs": [
    {
     "name": "stdout",
     "output_type": "stream",
     "text": [
      " * sqlite://\n",
      "Done.\n"
     ]
    },
    {
     "data": {
      "text/html": [
       "<table>\n",
       "    <tr>\n",
       "        <th>Total Annual Rainfall in Cairo</th>\n",
       "    </tr>\n",
       "    <tr>\n",
       "        <td>27.6</td>\n",
       "    </tr>\n",
       "</table>"
      ],
      "text/plain": [
       "[(27.6,)]"
      ]
     },
     "execution_count": 44,
     "metadata": {},
     "output_type": "execute_result"
    }
   ],
   "source": [
    "%%sql\n",
    "SELECT sum(Rainfall) as 'Total Annual Rainfall in Cairo' FROM various_cities\n",
    "WHERE City = 'Cairo'"
   ]
  },
  {
   "cell_type": "markdown",
   "id": "c1025de1",
   "metadata": {},
   "source": [
    "### h) The total rainfall for each season."
   ]
  },
  {
   "cell_type": "code",
   "execution_count": 53,
   "id": "199aab32",
   "metadata": {},
   "outputs": [
    {
     "name": "stdout",
     "output_type": "stream",
     "text": [
      " * sqlite://\n",
      "Done.\n"
     ]
    },
    {
     "data": {
      "text/html": [
       "<table>\n",
       "    <tr>\n",
       "        <th>Season</th>\n",
       "        <th>Total Rainfall</th>\n",
       "    </tr>\n",
       "    <tr>\n",
       "        <td>Fall</td>\n",
       "        <td>569.0</td>\n",
       "    </tr>\n",
       "    <tr>\n",
       "        <td>Spring</td>\n",
       "        <td>192.3</td>\n",
       "    </tr>\n",
       "    <tr>\n",
       "        <td>Summer</td>\n",
       "        <td>1706.5</td>\n",
       "    </tr>\n",
       "    <tr>\n",
       "        <td>Winter</td>\n",
       "        <td>230.1</td>\n",
       "    </tr>\n",
       "</table>"
      ],
      "text/plain": [
       "[('Fall', 569.0), ('Spring', 192.3), ('Summer', 1706.5), ('Winter', 230.1)]"
      ]
     },
     "execution_count": 53,
     "metadata": {},
     "output_type": "execute_result"
    }
   ],
   "source": [
    "%%sql\n",
    "SELECT Season, round(sum(Rainfall),1) as 'Total Rainfall' FROM various_cities\n",
    "GROUP BY Season"
   ]
  },
  {
   "cell_type": "markdown",
   "id": "75f5efbd",
   "metadata": {},
   "source": [
    "## Question 9 Python\n",
    "<li>Suppose list words is defined as follows:</li>\n",
    "<li>>>> words = ['The', 'quick', 'brown', 'fox', 'jumps', 'over', 'the', 'lazy', 'dog']</li>\n",
    "\n",
    "<p>Write list comprehension expressions that use list words and generate the following lists:</p>"
   ]
  },
  {
   "cell_type": "code",
   "execution_count": 27,
   "id": "2cfd4790",
   "metadata": {},
   "outputs": [],
   "source": [
    "words = ['The', 'quick', 'brown', 'fox', 'jumps', 'over', 'the', 'lazy', 'dog']"
   ]
  },
  {
   "cell_type": "markdown",
   "id": "92a02813",
   "metadata": {},
   "source": [
    "### Solution 9 a"
   ]
  },
  {
   "cell_type": "code",
   "execution_count": 28,
   "id": "0a3fc550",
   "metadata": {},
   "outputs": [
    {
     "name": "stdout",
     "output_type": "stream",
     "text": [
      "['THE', 'QUICK', 'BROWN', 'FOX', 'JUMPS', 'OVER', 'THE', 'LAZY', 'DOG']\n"
     ]
    }
   ],
   "source": [
    "res = [a.upper() for a in words]\n",
    "print(res)"
   ]
  },
  {
   "cell_type": "markdown",
   "id": "0738e7fa",
   "metadata": {},
   "source": [
    "### Solution 9 b"
   ]
  },
  {
   "cell_type": "code",
   "execution_count": 29,
   "id": "2adeae5d",
   "metadata": {},
   "outputs": [
    {
     "name": "stdout",
     "output_type": "stream",
     "text": [
      "['the', 'quick', 'brown', 'fox', 'jumps', 'over', 'the', 'lazy', 'dog']\n"
     ]
    }
   ],
   "source": [
    "res = [b.lower() for b in words]\n",
    "print(res)"
   ]
  },
  {
   "cell_type": "markdown",
   "id": "7e518bf8",
   "metadata": {},
   "source": [
    "### Solution 9 c"
   ]
  },
  {
   "cell_type": "code",
   "execution_count": 30,
   "id": "504c9ec0",
   "metadata": {},
   "outputs": [
    {
     "name": "stdout",
     "output_type": "stream",
     "text": [
      "[3, 5, 5, 3, 5, 4, 3, 4, 3]\n"
     ]
    }
   ],
   "source": [
    "res = [len(c) for c in words]\n",
    "print(res)"
   ]
  },
  {
   "cell_type": "markdown",
   "id": "bef7e4e8",
   "metadata": {},
   "source": [
    "### Solution 9 d"
   ]
  },
  {
   "cell_type": "code",
   "execution_count": 31,
   "id": "95ad447b",
   "metadata": {},
   "outputs": [
    {
     "name": "stdout",
     "output_type": "stream",
     "text": [
      "[['THE', 'the', 3], ['QUICK', 'quick', 5], ['BROWN', 'brown', 5], ['FOX', 'fox', 3], ['JUMPS', 'jumps', 5], ['OVER', 'over', 4], ['THE', 'the', 3], ['LAZY', 'lazy', 4], ['DOG', 'dog', 3]]\n"
     ]
    }
   ],
   "source": [
    "res = [[d.upper(),d.lower(),len(d)] for d in words]\n",
    "print(res)"
   ]
  },
  {
   "cell_type": "markdown",
   "id": "e8b694ba",
   "metadata": {},
   "source": [
    "### Solution 9 e"
   ]
  },
  {
   "cell_type": "code",
   "execution_count": 32,
   "id": "849d4ec4",
   "metadata": {},
   "outputs": [
    {
     "name": "stdout",
     "output_type": "stream",
     "text": [
      "['quick', 'brown', 'jumps', 'over', 'lazy']\n"
     ]
    }
   ],
   "source": [
    "res = [e for e in words if len(e)>=4]\n",
    "print(res)"
   ]
  }
 ],
 "metadata": {
  "kernelspec": {
   "display_name": "Python 3 (ipykernel)",
   "language": "python",
   "name": "python3"
  },
  "language_info": {
   "codemirror_mode": {
    "name": "ipython",
    "version": 3
   },
   "file_extension": ".py",
   "mimetype": "text/x-python",
   "name": "python",
   "nbconvert_exporter": "python",
   "pygments_lexer": "ipython3",
   "version": "3.9.7"
  }
 },
 "nbformat": 4,
 "nbformat_minor": 5
}
